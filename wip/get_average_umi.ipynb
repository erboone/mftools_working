{
 "metadata": {
  "language_info": {
   "codemirror_mode": {
    "name": "ipython",
    "version": 3
   },
   "file_extension": ".py",
   "mimetype": "text/x-python",
   "name": "python",
   "nbconvert_exporter": "python",
   "pygments_lexer": "ipython3",
   "version": "3.8.5"
  },
  "orig_nbformat": 4,
  "kernelspec": {
   "name": "python3",
   "display_name": "Python 3.8.10 64-bit ('base': conda)"
  },
  "interpreter": {
   "hash": "e2297a4b052802fc1fd31c067dc057bcc972e62e2e7d6063d6419332005695f9"
  }
 },
 "nbformat": 4,
 "nbformat_minor": 2,
 "cells": [
  {
   "source": [
    "## Get average UMI counts for filtering MERFISH genes\n",
    "\n",
    "Genes should not be used in a MERFISH panel if they are too highly expressed, as it will be hard\n",
    "to resolve individual spots if there is too much fluorescence. This notebook takes a reference\n",
    "scRNA-seq dataset and calculates the average UMI per cell cluster for the genes being screened\n",
    "and then keep the maximum from all clusters. There is no exact cutoff for expression, and it will\n",
    "depend on the efficiency of the sequencing assay used. Moffit et al. (Science, 2018) used a cutoff of 10,\n",
    "with the reasoning that the droplet-based RNA sequencing assay used for their reference had a 10%\n",
    "capture efficiency, and they wanted a threshold of 100 molecules per cell, which they describe as\n",
    "very conservative."
   ],
   "cell_type": "markdown",
   "metadata": {}
  },
  {
   "cell_type": "code",
   "execution_count": null,
   "metadata": {},
   "outputs": [],
   "source": [
    "import pandas as pd\n",
    "import numpy as np\n",
    "\n",
    "#Load the gene list (text file one gene per line)\n",
    "with open('/storage/RNA_MERFISH/Reference_Data/roy_list.txt') as f:\n",
    "    genelist = [line.strip() for line in f]\n",
    "\n",
    "#Load the UMI count table (expect columns are genes, rows are cells)\n",
    "matrix = pd.read_csv('/storage/RNA_MERFISH/Reference_Data/AllenBrain/MouseWholeCortexAndHippocampus/matrix.csv',\n",
    "                     usecols=genelist)"
   ]
  },
  {
   "cell_type": "code",
   "execution_count": null,
   "metadata": {},
   "outputs": [],
   "source": [
    "#A column should be added to the UMI count table with the cell cluster assignment\n",
    "#For this dataset, it's in a separate metadata table that we load and then add the column\n",
    "metadata = pd.read_csv('/storage/RNA_MERFISH/Reference_Data/AllenBrain/MouseWholeCortexAndHippocampus/metadata.csv')\n",
    "matrix['cluster'] = metadata['cluster_label'].astype(str)"
   ]
  },
  {
   "cell_type": "code",
   "execution_count": null,
   "metadata": {},
   "outputs": [],
   "source": [
    "#Now group cells by clusters and calculate the average UMI, then get the value from the cluster\n",
    "#with the highest average UMI. Print it out to check the correct number of genes.\n",
    "umis = pd.DataFrame(matrix.groupby('cluster').mean().max())\n",
    "umis"
   ]
  },
  {
   "cell_type": "code",
   "execution_count": null,
   "metadata": {},
   "outputs": [],
   "source": [
    "#Save the counts to a file\n",
    "umis.to_csv('umis.csv', header=None)"
   ]
  },
  {
   "cell_type": "code",
   "execution_count": null,
   "metadata": {},
   "outputs": [],
   "source": []
  }
 ]
}
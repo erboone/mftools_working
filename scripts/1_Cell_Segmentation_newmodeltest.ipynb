{
 "cells": [
  {
   "cell_type": "markdown",
   "metadata": {},
   "source": [
    "# Segmenting with cellpose"
   ]
  },
  {
   "cell_type": "code",
   "execution_count": null,
   "metadata": {
    "vscode": {
     "languageId": "powershell"
    }
   },
   "outputs": [],
   "source": [
    "# !pip install git+https://github.com/epigen-UCSD/merfish_tools.git"
   ]
  },
  {
   "cell_type": "markdown",
   "metadata": {},
   "source": [
    "##### Import required packages"
   ]
  },
  {
   "cell_type": "code",
   "execution_count": null,
   "metadata": {},
   "outputs": [],
   "source": [
    "import sys\n",
    "import os\n",
    "os.chdir('..')\n",
    "import mftools"
   ]
  },
  {
   "cell_type": "markdown",
   "metadata": {},
   "source": [
    "##### Load variables"
   ]
  },
  {
   "cell_type": "code",
   "execution_count": null,
   "metadata": {},
   "outputs": [],
   "source": [
    "# Filepath naming (Ren9)\n",
    "MERSCOPE_DIR = \"/mnt/merfish16/MERSCOPE\"\n",
    "EXPIRIMENT_NAME = \"202404071501_20240407M156BICANRen15_VMSC10102\"\n",
    "\n",
    "# Other global params\n",
    "ZSLICE = 3\n",
    "CHANNEL = \"DAPI\" \n",
    "TEST_FOV = 150\n",
    "\n",
    "# PATH PARAMS \n",
    "# CHANGE ONLY IF NEEDED: these should be standardized in the future and creation of these dirs automated from\n",
    "# globalized config file\n",
    "MER_RAWDATA_DIR = \"data\"\n",
    "MER_OUTPUT_DIR = \"output\"\n",
    "CELLPOSE_DIR = \"cellpose\"\n",
    "MASKS_DIR = \"masks\" \n",
    "\n",
    "# Path assembly\n",
    "image_dataset_path = f\"{MERSCOPE_DIR}/{MER_RAWDATA_DIR}/{EXPIRIMENT_NAME}/\" # Used to load imageset\n",
    "expiriment_out_path = f\"{MERSCOPE_DIR}/{MER_OUTPUT_DIR}/{EXPIRIMENT_NAME}/\" # Used to find barcodes \n",
    "cellpose_out_path = f\"./{CELLPOSE_DIR}/\" # used to save final cellpose output\n",
    "masks_out_path = f\"{cellpose_out_path}{MASKS_DIR}/\" # used to save masks\n",
    "\n",
    "print(f\"Looking for images in {image_dataset_path}\")\n",
    "print(f\"Writing {expiriment_out_path}\")\n",
    "print(f\"{cellpose_out_path}\")\n",
    "print(f\"{masks_out_path}\")"
   ]
  },
  {
   "cell_type": "code",
   "execution_count": null,
   "metadata": {},
   "outputs": [],
   "source": [
    "# # ALT for ease of use (REN20)\n",
    "# MERSCOPE_DIR = \"/mnt/merfish14/MERSCOPE/output\"\n",
    "# EXPIRIMENT_NAME = \"202405241210_20240524M168BICANRen20_VMSC02201\"\n",
    "\n",
    "# # Other global params\n",
    "# ZSLICE = 3\n",
    "# CHANNEL = \"DAPI\" \n",
    "\n",
    "# # PATH PARAMS \n",
    "# # CHANGE ONLY IF NEEDED: these should be standardized in the future and creation of these dirs automated from\n",
    "# # globalized config file\n",
    "# MER_RAWDATA_DIR = \"data\"\n",
    "# MER_OUTPUT_DIR = \"output\"\n",
    "# CELLPOSE_DIR = \"cellpose\"\n",
    "# MASKS_DIR = \"masks\" \n",
    "\n",
    "# # Path assembly\n",
    "# image_dataset_path = f\"{MERSCOPE_DIR}/{MER_RAWDATA_DIR}/{EXPIRIMENT_NAME}/\" # Used to load imageset\n",
    "# expiriment_out_path = f\"{MERSCOPE_DIR}/{MER_OUTPUT_DIR}/{EXPIRIMENT_NAME}/\" # Used to find barcodes \n",
    "# cellpose_out_path = f\"./{CELLPOSE_DIR}/\" # used to save final cellpose output\n",
    "# masks_out_path = f\"{cellpose_out_path}{MASKS_DIR}/\" # used to save masks\n"
   ]
  },
  {
   "cell_type": "code",
   "execution_count": null,
   "metadata": {},
   "outputs": [],
   "source": [
    "# Check directory structure\n",
    "\n",
    "needed_dirs = [image_dataset_path, expiriment_out_path, cellpose_out_path, masks_out_path]\n",
    "print(needed_dirs)\n",
    "for path in needed_dirs:\n",
    "    os.makedirs(path, exist_ok=True)\n",
    "\n",
    "    if os.path.exists(path):\n",
    "        if not os.access(path, os.W_OK) or not os.access(path, os.R_OK):\n",
    "            raise RuntimeError(f\"You do not have read/write permissions in directory \\\"{path}\\\"\")\n",
    "    else:\n",
    "        raise RuntimeError(f\"Attempted to create \\\"{path}\\\" but failed. Check that you have permission.\")\n"
   ]
  },
  {
   "cell_type": "code",
   "execution_count": null,
   "metadata": {},
   "outputs": [],
   "source": [
    "from mftools.fileio import ImageDataset"
   ]
  },
  {
   "cell_type": "code",
   "execution_count": null,
   "metadata": {},
   "outputs": [],
   "source": [
    "# Use file path like format (\"/mnt/merfish12/MERSCOPE/merfish_raw_data/202401261424_20240126M134UWA7648CX22PuS6_VMSC10102\")\n",
    "print(image_dataset_path)\n",
    "imageset = ImageDataset(image_dataset_path)"
   ]
  },
  {
   "cell_type": "code",
   "execution_count": null,
   "metadata": {},
   "outputs": [],
   "source": [
    "from mftools.segmentation import CellSegmentation"
   ]
  },
  {
   "cell_type": "code",
   "execution_count": null,
   "metadata": {},
   "outputs": [],
   "source": [
    "seg = CellSegmentation(imagedata=imageset, channel=CHANNEL, zslice=ZSLICE)"
   ]
  },
  {
   "cell_type": "code",
   "execution_count": null,
   "metadata": {},
   "outputs": [],
   "source": [
    "# index seg to access the mask for that FOV\n",
    "mask = seg[TEST_FOV]"
   ]
  },
  {
   "cell_type": "code",
   "execution_count": null,
   "metadata": {},
   "outputs": [],
   "source": [
    "dapi = imageset.load_image(channel=CHANNEL, fov=TEST_FOV, max_projection=True)"
   ]
  },
  {
   "cell_type": "code",
   "execution_count": null,
   "metadata": {},
   "outputs": [],
   "source": [
    "import matplotlib.pyplot as plt\n",
    "import numpy as np\n",
    "plt.figure(dpi=150)\n",
    "plt.imshow(dapi, cmap=\"gray\")\n",
    "plt.contour(mask, [x+0.5 for x in np.unique(mask)], colors=\"tab:blue\")\n",
    "plt.axis(\"off\")"
   ]
  },
  {
   "cell_type": "code",
   "execution_count": null,
   "metadata": {},
   "outputs": [],
   "source": [
    "from skimage.measure import regionprops\n",
    "\n",
    "centroids = np.array([cell.centroid for cell in regionprops(mask)])"
   ]
  },
  {
   "cell_type": "code",
   "execution_count": null,
   "metadata": {},
   "outputs": [],
   "source": [
    "import matplotlib.pyplot as plt\n",
    "import numpy as np\n",
    "plt.figure(dpi=150)\n",
    "plt.imshow(dapi, cmap=\"gray\")\n",
    "plt.scatter(centroids[:,1], centroids[:,0], c=\"tab:blue\", s=2)\n",
    "plt.axis(\"off\");"
   ]
  },
  {
   "cell_type": "code",
   "execution_count": null,
   "metadata": {},
   "outputs": [],
   "source": [
    "# save the segmentations to mask, This should be in MERSCOPE/Output/\n",
    "# seg = CellSegmentation(\"/mnt/merfish4v1/RNA_MERFISH/MERSCOPE/Output/202212021545_20221202M064BA19S09352_VMSC02201_cellpose/masks\", imagedata=imageset)\n",
    "\n",
    "# seg = CellSegmentation(\"/mnt/merfish10/RNA_MERFISH/MERSCOPE/Output/202310081756_20231008M114MUSLivSenTS2_VMSC10102/cellpose/masks\", imagedata=imageset, channel=\"DAPI\", zslice=3)\n",
    "# seg = CellSegmentation(\"/mnt/merfish10/RNA_MERFISH/MERSCOPE/Output/202310082020_20231008M113MUSLivSenTS1_VMSC10002/cellpose/masks\", imagedata=imageset, channel=\"DAPI\", zslice=3)\n",
    "# seg = CellSegmentation(\"/mnt/merfish10/RNA_MERFISH/MERSCOPE/Output/202310201605_20231020M117MUSMBrSenTS2_VMSC10002/cellpose/masks\", imagedata=imageset, channel=\"DAPI\", zslice=3)\n",
    "# seg = CellSegmentation(\"/mnt/merfish12/MERSCOPE/merfish_output/202401261424_20240126M134UWA7648CX22PuS6_VMSC10102/cellpose/masks\", imagedata=imageset, channel=\"DAPI\", zslice=3)\n",
    "# seg = CellSegmentation(mask_folder=masks_out_path, \n",
    "#                        imagedata=imageset, \n",
    "#                        channel=\"DAPI\", \n",
    "#                        zslice=3)\n",
    "# seg.segment_fov(500)"
   ]
  },
  {
   "cell_type": "markdown",
   "metadata": {},
   "source": [
    "__Generating a new cell by gene table__"
   ]
  },
  {
   "cell_type": "code",
   "execution_count": null,
   "metadata": {},
   "outputs": [],
   "source": [
    "# If you are using the MERFISH tools to create a new cell segmentation with cellpose, use the CellSegmentation created above with the image dataset\n",
    "# seg = CellSegmentation(imagedata=imageset, channel=\"DAPI\", zslice=3)"
   ]
  },
  {
   "cell_type": "code",
   "execution_count": null,
   "metadata": {},
   "outputs": [],
   "source": [
    "# 119 minutes\n",
    "# Create cell metadata table from segmentation masks, which contains local and global coordinates of the cells, as well as their volumes\n",
    "metadata = seg.metadata"
   ]
  },
  {
   "cell_type": "code",
   "execution_count": null,
   "metadata": {},
   "outputs": [],
   "source": [
    "from mftools.fileio import MerfishAnalysis\n",
    "\n",
    "# something like this: output = MerfishAnalysis(\"/mnt/merfish4v1/RNA_MERFISH/MERSCOPE/Output/202212021545_20221202M064BA19S09352_VMSC02201_cellpose\")\n",
    "# Needed to load the original detected transcripts made by the Vizgen output\n",
    "\n",
    "# output = MerfishAnalysis(\"/mnt/merfish10/RNA_MERFISH/MERSCOPE/Output/202310081756_20231008M114MUSLivSenTS2_VMSC10102/cellpose\")\n",
    "output = MerfishAnalysis(cellpose_out_path)"
   ]
  },
  {
   "cell_type": "code",
   "execution_count": null,
   "metadata": {},
   "outputs": [],
   "source": [
    "output.save_cell_metadata(metadata)"
   ]
  },
  {
   "cell_type": "code",
   "execution_count": null,
   "metadata": {},
   "outputs": [],
   "source": [
    "# something like this: original = MerfishAnalysis(\"/mnt/merfish4v1/RNA_MERFISH/MERSCOPE/Output/202212021545_20221202M064BA19S09352_VMSC02201\")\n",
    "\n",
    "# original = MerfishAnalysis(\"/mnt/merfish10/RNA_MERFISH/MERSCOPE/Output/202310081756_20231008M114MUSLivSenTS2_VMSC10102\")\n",
    "original = MerfishAnalysis(expiriment_out_path)\n",
    "\n"
   ]
  },
  {
   "cell_type": "code",
   "execution_count": null,
   "metadata": {},
   "outputs": [],
   "source": [
    "barcodes = original.load_barcode_table()\n"
   ]
  },
  {
   "cell_type": "code",
   "execution_count": null,
   "metadata": {},
   "outputs": [],
   "source": [
    "from mftools.barcodes import assign_to_cells\n",
    "assign_to_cells(barcodes, seg)"
   ]
  },
  {
   "cell_type": "code",
   "execution_count": null,
   "metadata": {},
   "outputs": [],
   "source": [
    "import matplotlib.pyplot as plt\n",
    "incells = barcodes[(barcodes['fov'] == TEST_FOV) & (barcodes['cell_id'] != 0)]\n",
    "plt.scatter(incells['x'], incells['y'], s=1)\n",
    "outcells = barcodes[(barcodes['fov'] == TEST_FOV) & (barcodes['cell_id'] == 0)]\n",
    "plt.scatter(outcells['x'], outcells['y'], s=1)"
   ]
  },
  {
   "cell_type": "code",
   "execution_count": null,
   "metadata": {},
   "outputs": [],
   "source": [
    "from mftools.barcodes import link_cell_ids\n",
    "\n",
    "link_cell_ids(barcodes, seg.linked_cells)"
   ]
  },
  {
   "cell_type": "code",
   "execution_count": null,
   "metadata": {},
   "outputs": [],
   "source": [
    "output.save_barcode_table(barcodes)\n"
   ]
  },
  {
   "cell_type": "code",
   "execution_count": null,
   "metadata": {},
   "outputs": [],
   "source": [
    "barcodes = output.load_barcode_table()\n"
   ]
  },
  {
   "cell_type": "code",
   "execution_count": null,
   "metadata": {},
   "outputs": [],
   "source": [
    "from mftools.barcodes import create_cell_by_gene_table\n",
    "cbgtab = create_cell_by_gene_table(barcodes)"
   ]
  },
  {
   "cell_type": "code",
   "execution_count": null,
   "metadata": {},
   "outputs": [],
   "source": [
    "cbgtab.index = cbgtab.index.astype(int)"
   ]
  },
  {
   "cell_type": "code",
   "execution_count": null,
   "metadata": {},
   "outputs": [],
   "source": [
    "output.save_cell_by_gene_table(cbgtab)"
   ]
  },
  {
   "cell_type": "markdown",
   "metadata": {},
   "source": [
    "# USE THE STUFF BELOW"
   ]
  },
  {
   "cell_type": "code",
   "execution_count": null,
   "metadata": {},
   "outputs": [],
   "source": [
    "# If you are using the MERFISH tools to create a new cell segmentation with cellpose, use the CellSegmentation created above with the image dataset\n",
    "# seg = CellSegmentation(imagedata=imageset, channel=\"DAPI\", zslice=3)\n"
   ]
  },
  {
   "cell_type": "code",
   "execution_count": null,
   "metadata": {},
   "outputs": [],
   "source": [
    "# 119 minutes\n",
    "# Create cell metadata table from segmentation masks, which contains local and global coordinates of the cells, as well as their volumes\n",
    "metadata = seg.metadata"
   ]
  },
  {
   "cell_type": "code",
   "execution_count": null,
   "metadata": {},
   "outputs": [],
   "source": [
    "from merfish_tools.mftools.fileio import MerfishAnalysis\n",
    "\n",
    "# something like this: output = MerfishAnalysis(\"/mnt/merfish4v1/RNA_MERFISH/MERSCOPE/Output/202212021545_20221202M064BA19S09352_VMSC02201_cellpose\")\n",
    "# Needed to load the original detected transcripts made by the Vizgen output\n",
    "\n",
    "# output = MerfishAnalysis(\"/mnt/merfish10/RNA_MERFISH/MERSCOPE/Output/202310081756_20231008M114MUSLivSenTS2_VMSC10102/cellpose\")\n",
    "output = MerfishAnalysis(CELLPOSE_OUT)"
   ]
  },
  {
   "cell_type": "code",
   "execution_count": null,
   "metadata": {},
   "outputs": [],
   "source": [
    "output.save_cell_metadata(metadata)"
   ]
  },
  {
   "cell_type": "code",
   "execution_count": null,
   "metadata": {},
   "outputs": [],
   "source": [
    "# something like this: original = MerfishAnalysis(\"/mnt/merfish4v1/RNA_MERFISH/MERSCOPE/Output/202212021545_20221202M064BA19S09352_VMSC02201\")\n",
    "\n",
    "# original = MerfishAnalysis(\"/mnt/merfish10/RNA_MERFISH/MERSCOPE/Output/202310081756_20231008M114MUSLivSenTS2_VMSC10102\")\n",
    "original = MerfishAnalysis(MERFISH_OUT)\n",
    "\n"
   ]
  },
  {
   "cell_type": "code",
   "execution_count": null,
   "metadata": {},
   "outputs": [],
   "source": [
    "barcodes = original.load_barcode_table()\n"
   ]
  },
  {
   "cell_type": "code",
   "execution_count": null,
   "metadata": {},
   "outputs": [],
   "source": [
    "from mftools.barcodes import assign_to_cells\n",
    "assign_to_cells(barcodes, seg)"
   ]
  },
  {
   "cell_type": "code",
   "execution_count": null,
   "metadata": {},
   "outputs": [],
   "source": [
    "import matplotlib.pyplot as plt\n",
    "incells = barcodes[(barcodes['fov'] == 150) & (barcodes['cell_id'] != 0)]\n",
    "plt.scatter(incells['x'], incells['y'], s=1)\n",
    "outcells = barcodes[(barcodes['fov'] == 150) & (barcodes['cell_id'] == 0)]\n",
    "plt.scatter(outcells['x'], outcells['y'], s=1)"
   ]
  },
  {
   "cell_type": "code",
   "execution_count": null,
   "metadata": {},
   "outputs": [],
   "source": [
    "from mftools.barcodes import link_cell_ids\n",
    "\n",
    "link_cell_ids(barcodes, seg.linked_cells)"
   ]
  },
  {
   "cell_type": "code",
   "execution_count": null,
   "metadata": {},
   "outputs": [],
   "source": [
    "output.save_barcode_table(barcodes)\n"
   ]
  },
  {
   "cell_type": "code",
   "execution_count": null,
   "metadata": {},
   "outputs": [],
   "source": [
    "barcodes = output.load_barcode_table()\n"
   ]
  },
  {
   "cell_type": "code",
   "execution_count": null,
   "metadata": {},
   "outputs": [],
   "source": [
    "from mftools.barcodes import create_cell_by_gene_table\n",
    "cbgtab = create_cell_by_gene_table(barcodes)"
   ]
  },
  {
   "cell_type": "code",
   "execution_count": null,
   "metadata": {},
   "outputs": [],
   "source": [
    "cbgtab.index = cbgtab.index.astype(int)"
   ]
  },
  {
   "cell_type": "code",
   "execution_count": null,
   "metadata": {},
   "outputs": [],
   "source": [
    "output.save_cell_by_gene_table(cbgtab)"
   ]
  }
 ],
 "metadata": {
  "kernelspec": {
   "display_name": "Python 3.10.9 ('base')",
   "language": "python",
   "name": "python3"
  },
  "language_info": {
   "codemirror_mode": {
    "name": "ipython",
    "version": 3
   },
   "file_extension": ".py",
   "mimetype": "text/x-python",
   "name": "python",
   "nbconvert_exporter": "python",
   "pygments_lexer": "ipython3",
   "version": "3.12.4"
  },
  "orig_nbformat": 4,
  "vscode": {
   "interpreter": {
    "hash": "e9af635958a100ea7255a5b6af6c059752c6b6a60b555feb92dce9053a9a2d66"
   }
  }
 },
 "nbformat": 4,
 "nbformat_minor": 2
}

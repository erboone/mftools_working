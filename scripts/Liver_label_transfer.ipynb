{
 "cells": [
  {
   "cell_type": "code",
   "execution_count": 3,
   "metadata": {},
   "outputs": [],
   "source": [
    "import scanpy as sc\n",
    "import pandas as pd\n",
    "import seaborn as sns\n",
    "import matplotlib.pyplot as plt\n",
    "import anndata as an\n",
    "import numpy as np\n",
    "\n",
    "MERFISH_DATA_PATH = \"/mnt/merfish18/SenNet/objects/SenTMLiv_126to127_age0416.h5ad\"\n",
    "MERFISH_DATA_BATCH_NAMES = ['M126','M127']\n",
    "\n",
    "SENESCENCE_GENES_PATH = \"sen_genes/senscore_genes_best.csv\"\n",
    "\n",
    "REFERENCE_DATA_PATH = \"/mnt/merfish18/SenNet/References/240417_02_trip_liver_filt_ct_clust_batch_anno_rna_only_v3.h5ad\"\n",
    "\n",
    "# Output variables\n",
    "OUTPUT_DIRECTORY = \"\"\n",
    "HI_DEF_DPI = 1000\n",
    "# TODO: Scale function to get spatial embedding dots close to actuall cell size"
   ]
  },
  {
   "cell_type": "code",
   "execution_count": 4,
   "metadata": {},
   "outputs": [
    {
     "ename": "PermissionError",
     "evalue": "[Errno 13] Permission denied: '/mnt/merfish18/SenNet/References/240417_02_trip_liver_filt_ct_clust_batch_anno_rna_only_v3.h5ad'",
     "output_type": "error",
     "traceback": [
      "\u001b[0;31m---------------------------------------------------------------------------\u001b[0m",
      "\u001b[0;31mPermissionError\u001b[0m                           Traceback (most recent call last)",
      "Cell \u001b[0;32mIn[4], line 3\u001b[0m\n\u001b[1;32m      1\u001b[0m \u001b[38;5;66;03m# Read in data\u001b[39;00m\n\u001b[1;32m      2\u001b[0m mfdata \u001b[38;5;241m=\u001b[39m sc\u001b[38;5;241m.\u001b[39mread_h5ad(MERFISH_DATA_PATH)\n\u001b[0;32m----> 3\u001b[0m refdata \u001b[38;5;241m=\u001b[39m \u001b[43msc\u001b[49m\u001b[38;5;241;43m.\u001b[39;49m\u001b[43mread\u001b[49m\u001b[43m(\u001b[49m\u001b[43mREFERENCE_DATA_PATH\u001b[49m\u001b[43m)\u001b[49m\n\u001b[1;32m      4\u001b[0m \u001b[38;5;28mprint\u001b[39m(mfdata)\n\u001b[1;32m      5\u001b[0m \u001b[38;5;28mprint\u001b[39m(refdata)\n",
      "File \u001b[0;32m~/anaconda3/envs/CellSenescence/lib/python3.12/site-packages/legacy_api_wrap/__init__.py:80\u001b[0m, in \u001b[0;36mlegacy_api.<locals>.wrapper.<locals>.fn_compatible\u001b[0;34m(*args_all, **kw)\u001b[0m\n\u001b[1;32m     77\u001b[0m \u001b[38;5;129m@wraps\u001b[39m(fn)\n\u001b[1;32m     78\u001b[0m \u001b[38;5;28;01mdef\u001b[39;00m \u001b[38;5;21mfn_compatible\u001b[39m(\u001b[38;5;241m*\u001b[39margs_all: P\u001b[38;5;241m.\u001b[39margs, \u001b[38;5;241m*\u001b[39m\u001b[38;5;241m*\u001b[39mkw: P\u001b[38;5;241m.\u001b[39mkwargs) \u001b[38;5;241m-\u001b[39m\u001b[38;5;241m>\u001b[39m R:\n\u001b[1;32m     79\u001b[0m     \u001b[38;5;28;01mif\u001b[39;00m \u001b[38;5;28mlen\u001b[39m(args_all) \u001b[38;5;241m<\u001b[39m\u001b[38;5;241m=\u001b[39m n_positional:\n\u001b[0;32m---> 80\u001b[0m         \u001b[38;5;28;01mreturn\u001b[39;00m \u001b[43mfn\u001b[49m\u001b[43m(\u001b[49m\u001b[38;5;241;43m*\u001b[39;49m\u001b[43margs_all\u001b[49m\u001b[43m,\u001b[49m\u001b[43m \u001b[49m\u001b[38;5;241;43m*\u001b[39;49m\u001b[38;5;241;43m*\u001b[39;49m\u001b[43mkw\u001b[49m\u001b[43m)\u001b[49m\n\u001b[1;32m     82\u001b[0m     args_pos: P\u001b[38;5;241m.\u001b[39margs\n\u001b[1;32m     83\u001b[0m     args_pos, args_rest \u001b[38;5;241m=\u001b[39m args_all[:n_positional], args_all[n_positional:]\n",
      "File \u001b[0;32m~/anaconda3/envs/CellSenescence/lib/python3.12/site-packages/scanpy/readwrite.py:124\u001b[0m, in \u001b[0;36mread\u001b[0;34m(filename, backed, sheet, ext, delimiter, first_column_names, backup_url, cache, cache_compression, **kwargs)\u001b[0m\n\u001b[1;32m    122\u001b[0m filename \u001b[38;5;241m=\u001b[39m Path(filename)  \u001b[38;5;66;03m# allow passing strings\u001b[39;00m\n\u001b[1;32m    123\u001b[0m \u001b[38;5;28;01mif\u001b[39;00m is_valid_filename(filename):\n\u001b[0;32m--> 124\u001b[0m     \u001b[38;5;28;01mreturn\u001b[39;00m \u001b[43m_read\u001b[49m\u001b[43m(\u001b[49m\n\u001b[1;32m    125\u001b[0m \u001b[43m        \u001b[49m\u001b[43mfilename\u001b[49m\u001b[43m,\u001b[49m\n\u001b[1;32m    126\u001b[0m \u001b[43m        \u001b[49m\u001b[43mbacked\u001b[49m\u001b[38;5;241;43m=\u001b[39;49m\u001b[43mbacked\u001b[49m\u001b[43m,\u001b[49m\n\u001b[1;32m    127\u001b[0m \u001b[43m        \u001b[49m\u001b[43msheet\u001b[49m\u001b[38;5;241;43m=\u001b[39;49m\u001b[43msheet\u001b[49m\u001b[43m,\u001b[49m\n\u001b[1;32m    128\u001b[0m \u001b[43m        \u001b[49m\u001b[43mext\u001b[49m\u001b[38;5;241;43m=\u001b[39;49m\u001b[43mext\u001b[49m\u001b[43m,\u001b[49m\n\u001b[1;32m    129\u001b[0m \u001b[43m        \u001b[49m\u001b[43mdelimiter\u001b[49m\u001b[38;5;241;43m=\u001b[39;49m\u001b[43mdelimiter\u001b[49m\u001b[43m,\u001b[49m\n\u001b[1;32m    130\u001b[0m \u001b[43m        \u001b[49m\u001b[43mfirst_column_names\u001b[49m\u001b[38;5;241;43m=\u001b[39;49m\u001b[43mfirst_column_names\u001b[49m\u001b[43m,\u001b[49m\n\u001b[1;32m    131\u001b[0m \u001b[43m        \u001b[49m\u001b[43mbackup_url\u001b[49m\u001b[38;5;241;43m=\u001b[39;49m\u001b[43mbackup_url\u001b[49m\u001b[43m,\u001b[49m\n\u001b[1;32m    132\u001b[0m \u001b[43m        \u001b[49m\u001b[43mcache\u001b[49m\u001b[38;5;241;43m=\u001b[39;49m\u001b[43mcache\u001b[49m\u001b[43m,\u001b[49m\n\u001b[1;32m    133\u001b[0m \u001b[43m        \u001b[49m\u001b[43mcache_compression\u001b[49m\u001b[38;5;241;43m=\u001b[39;49m\u001b[43mcache_compression\u001b[49m\u001b[43m,\u001b[49m\n\u001b[1;32m    134\u001b[0m \u001b[43m        \u001b[49m\u001b[38;5;241;43m*\u001b[39;49m\u001b[38;5;241;43m*\u001b[39;49m\u001b[43mkwargs\u001b[49m\u001b[43m,\u001b[49m\n\u001b[1;32m    135\u001b[0m \u001b[43m    \u001b[49m\u001b[43m)\u001b[49m\n\u001b[1;32m    136\u001b[0m \u001b[38;5;66;03m# generate filename and read to dict\u001b[39;00m\n\u001b[1;32m    137\u001b[0m filekey \u001b[38;5;241m=\u001b[39m \u001b[38;5;28mstr\u001b[39m(filename)\n",
      "File \u001b[0;32m~/anaconda3/envs/CellSenescence/lib/python3.12/site-packages/scanpy/readwrite.py:753\u001b[0m, in \u001b[0;36m_read\u001b[0;34m(filename, backed, sheet, ext, delimiter, first_column_names, backup_url, cache, cache_compression, suppress_cache_warning, **kwargs)\u001b[0m\n\u001b[1;32m    751\u001b[0m \u001b[38;5;28;01melse\u001b[39;00m:\n\u001b[1;32m    752\u001b[0m     ext \u001b[38;5;241m=\u001b[39m is_valid_filename(filename, return_ext\u001b[38;5;241m=\u001b[39m\u001b[38;5;28;01mTrue\u001b[39;00m)\n\u001b[0;32m--> 753\u001b[0m is_present \u001b[38;5;241m=\u001b[39m \u001b[43m_check_datafile_present_and_download\u001b[49m\u001b[43m(\u001b[49m\u001b[43mfilename\u001b[49m\u001b[43m,\u001b[49m\u001b[43m \u001b[49m\u001b[43mbackup_url\u001b[49m\u001b[38;5;241;43m=\u001b[39;49m\u001b[43mbackup_url\u001b[49m\u001b[43m)\u001b[49m\n\u001b[1;32m    754\u001b[0m \u001b[38;5;28;01mif\u001b[39;00m \u001b[38;5;129;01mnot\u001b[39;00m is_present:\n\u001b[1;32m    755\u001b[0m     logg\u001b[38;5;241m.\u001b[39mdebug(\u001b[38;5;124mf\u001b[39m\u001b[38;5;124m\"\u001b[39m\u001b[38;5;124m... did not find original file \u001b[39m\u001b[38;5;132;01m{\u001b[39;00mfilename\u001b[38;5;132;01m}\u001b[39;00m\u001b[38;5;124m\"\u001b[39m)\n",
      "File \u001b[0;32m~/anaconda3/envs/CellSenescence/lib/python3.12/site-packages/scanpy/readwrite.py:1035\u001b[0m, in \u001b[0;36m_check_datafile_present_and_download\u001b[0;34m(path, backup_url)\u001b[0m\n\u001b[1;32m   1033\u001b[0m \u001b[38;5;250m\u001b[39m\u001b[38;5;124;03m\"\"\"Check whether the file is present, otherwise download.\"\"\"\u001b[39;00m\n\u001b[1;32m   1034\u001b[0m path \u001b[38;5;241m=\u001b[39m Path(path)\n\u001b[0;32m-> 1035\u001b[0m \u001b[38;5;28;01mif\u001b[39;00m \u001b[43mpath\u001b[49m\u001b[38;5;241;43m.\u001b[39;49m\u001b[43mis_file\u001b[49m\u001b[43m(\u001b[49m\u001b[43m)\u001b[49m:\n\u001b[1;32m   1036\u001b[0m     \u001b[38;5;28;01mreturn\u001b[39;00m \u001b[38;5;28;01mTrue\u001b[39;00m\n\u001b[1;32m   1037\u001b[0m \u001b[38;5;28;01mif\u001b[39;00m backup_url \u001b[38;5;129;01mis\u001b[39;00m \u001b[38;5;28;01mNone\u001b[39;00m:\n",
      "File \u001b[0;32m~/anaconda3/envs/CellSenescence/lib/python3.12/pathlib.py:892\u001b[0m, in \u001b[0;36mPath.is_file\u001b[0;34m(self)\u001b[0m\n\u001b[1;32m    887\u001b[0m \u001b[38;5;250m\u001b[39m\u001b[38;5;124;03m\"\"\"\u001b[39;00m\n\u001b[1;32m    888\u001b[0m \u001b[38;5;124;03mWhether this path is a regular file (also True for symlinks pointing\u001b[39;00m\n\u001b[1;32m    889\u001b[0m \u001b[38;5;124;03mto regular files).\u001b[39;00m\n\u001b[1;32m    890\u001b[0m \u001b[38;5;124;03m\"\"\"\u001b[39;00m\n\u001b[1;32m    891\u001b[0m \u001b[38;5;28;01mtry\u001b[39;00m:\n\u001b[0;32m--> 892\u001b[0m     \u001b[38;5;28;01mreturn\u001b[39;00m S_ISREG(\u001b[38;5;28;43mself\u001b[39;49m\u001b[38;5;241;43m.\u001b[39;49m\u001b[43mstat\u001b[49m\u001b[43m(\u001b[49m\u001b[43m)\u001b[49m\u001b[38;5;241m.\u001b[39mst_mode)\n\u001b[1;32m    893\u001b[0m \u001b[38;5;28;01mexcept\u001b[39;00m \u001b[38;5;167;01mOSError\u001b[39;00m \u001b[38;5;28;01mas\u001b[39;00m e:\n\u001b[1;32m    894\u001b[0m     \u001b[38;5;28;01mif\u001b[39;00m \u001b[38;5;129;01mnot\u001b[39;00m _ignore_error(e):\n",
      "File \u001b[0;32m~/anaconda3/envs/CellSenescence/lib/python3.12/pathlib.py:840\u001b[0m, in \u001b[0;36mPath.stat\u001b[0;34m(self, follow_symlinks)\u001b[0m\n\u001b[1;32m    835\u001b[0m \u001b[38;5;28;01mdef\u001b[39;00m \u001b[38;5;21mstat\u001b[39m(\u001b[38;5;28mself\u001b[39m, \u001b[38;5;241m*\u001b[39m, follow_symlinks\u001b[38;5;241m=\u001b[39m\u001b[38;5;28;01mTrue\u001b[39;00m):\n\u001b[1;32m    836\u001b[0m \u001b[38;5;250m    \u001b[39m\u001b[38;5;124;03m\"\"\"\u001b[39;00m\n\u001b[1;32m    837\u001b[0m \u001b[38;5;124;03m    Return the result of the stat() system call on this path, like\u001b[39;00m\n\u001b[1;32m    838\u001b[0m \u001b[38;5;124;03m    os.stat() does.\u001b[39;00m\n\u001b[1;32m    839\u001b[0m \u001b[38;5;124;03m    \"\"\"\u001b[39;00m\n\u001b[0;32m--> 840\u001b[0m     \u001b[38;5;28;01mreturn\u001b[39;00m \u001b[43mos\u001b[49m\u001b[38;5;241;43m.\u001b[39;49m\u001b[43mstat\u001b[49m\u001b[43m(\u001b[49m\u001b[38;5;28;43mself\u001b[39;49m\u001b[43m,\u001b[49m\u001b[43m \u001b[49m\u001b[43mfollow_symlinks\u001b[49m\u001b[38;5;241;43m=\u001b[39;49m\u001b[43mfollow_symlinks\u001b[49m\u001b[43m)\u001b[49m\n",
      "\u001b[0;31mPermissionError\u001b[0m: [Errno 13] Permission denied: '/mnt/merfish18/SenNet/References/240417_02_trip_liver_filt_ct_clust_batch_anno_rna_only_v3.h5ad'"
     ]
    }
   ],
   "source": [
    "# Read in data\n",
    "mfdata = sc.read_h5ad(MERFISH_DATA_PATH)\n",
    "refdata = sc.read(REFERENCE_DATA_PATH)\n",
    "print(mfdata)\n",
    "print(refdata)"
   ]
  },
  {
   "cell_type": "code",
   "execution_count": null,
   "metadata": {},
   "outputs": [],
   "source": [
    "var_intersect = mfdata.var_names.intersection(refdata.var_names)\n",
    "mfdata = mfdata[mfdata.obs['batch'].isin(MERFISH_DATA_BATCH_NAMES), var_intersect].copy()\n",
    "refdata = refdata[:, var_intersect].copy()"
   ]
  },
  {
   "cell_type": "code",
   "execution_count": 19,
   "metadata": {},
   "outputs": [
    {
     "name": "stderr",
     "output_type": "stream",
     "text": [
      "/home/eboone/anaconda3/envs/CellSenescence/lib/python3.12/site-packages/scanpy/preprocessing/_normalization.py:233: UserWarning: Some cells have zero counts\n",
      "  warn(UserWarning(\"Some cells have zero counts\"))\n",
      "/home/eboone/anaconda3/envs/CellSenescence/lib/python3.12/site-packages/scanpy/preprocessing/_simple.py:380: RuntimeWarning: invalid value encountered in log1p\n",
      "  np.log1p(X, out=X)\n"
     ]
    }
   ],
   "source": [
    "sc.pp.filter_cells(mfdata, min_genes=5)\n",
    "sc.pp.filter_genes(mfdata, min_cells=1)\n",
    "\n",
    "sc.pp.normalize_total(mfdata)\n",
    "sc.pp.log1p(mfdata)"
   ]
  },
  {
   "cell_type": "code",
   "execution_count": 27,
   "metadata": {},
   "outputs": [
    {
     "name": "stdout",
     "output_type": "stream",
     "text": [
      "AnnData object with n_obs × n_vars = 577462 × 299\n",
      "    obs: 'celltype', 'age', 'source'\n",
      "    obsm: 'X_pca'\n"
     ]
    }
   ],
   "source": [
    "adata = an.concat([mfdata, refdata], label='source')\n",
    "print(adata)"
   ]
  },
  {
   "cell_type": "code",
   "execution_count": 25,
   "metadata": {},
   "outputs": [
    {
     "name": "stdout",
     "output_type": "stream",
     "text": [
      "                                                  fov_y        fov_x  fov  \\\n",
      "2-M126-M126                                  117.237576  1909.425663    0   \n",
      "10001-M126-M126                             1036.398096  1714.786181    1   \n",
      "50175-M126-M126                              945.711303  1055.879459    5   \n",
      "140009-M126-M126                            1391.738114    70.821114   14   \n",
      "140017-M126-M126                            1455.009553   476.014895   14   \n",
      "...                                                 ...          ...  ...   \n",
      "QY_2326_1_2_QY_2325_1_2_TTGTGCGAGTTGTCAA-1          NaN          NaN  NaN   \n",
      "QY_2326_1_2_QY_2325_1_2_GAGTCAAAGGCACAGG-1          NaN          NaN  NaN   \n",
      "QY_2326_1_2_QY_2325_1_2_GGTACTTAGCGCTAAT-1          NaN          NaN  NaN   \n",
      "QY_2326_1_2_QY_2325_1_2_AAGGTATAGGCCGGAA-1          NaN          NaN  NaN   \n",
      "QY_2326_1_2_QY_2325_1_2_AATTAGCGTTAAGGTT-1          NaN          NaN  NaN   \n",
      "\n",
      "                                               global_x    global_y   volume  \\\n",
      "2-M126-M126                                 4814.885915 -992.593880  25159.0   \n",
      "10001-M126-M126                             4835.794453 -891.331827  46544.0   \n",
      "50175-M126-M126                             4906.575449  -81.590081  27302.0   \n",
      "140009-M126-M126                            5212.392263  470.496882  11253.0   \n",
      "140017-M126-M126                            5168.865587  463.700146  15911.0   \n",
      "...                                                 ...         ...      ...   \n",
      "QY_2326_1_2_QY_2325_1_2_TTGTGCGAGTTGTCAA-1          NaN         NaN      NaN   \n",
      "QY_2326_1_2_QY_2325_1_2_GAGTCAAAGGCACAGG-1          NaN         NaN      NaN   \n",
      "QY_2326_1_2_QY_2325_1_2_GGTACTTAGCGCTAAT-1          NaN         NaN      NaN   \n",
      "QY_2326_1_2_QY_2325_1_2_AAGGTATAGGCCGGAA-1          NaN         NaN      NaN   \n",
      "QY_2326_1_2_QY_2325_1_2_AATTAGCGTTAAGGTT-1          NaN         NaN      NaN   \n",
      "\n",
      "                                            n_genes_by_counts  \\\n",
      "2-M126-M126                                              13.0   \n",
      "10001-M126-M126                                           5.0   \n",
      "50175-M126-M126                                           8.0   \n",
      "140009-M126-M126                                          8.0   \n",
      "140017-M126-M126                                         19.0   \n",
      "...                                                       ...   \n",
      "QY_2326_1_2_QY_2325_1_2_TTGTGCGAGTTGTCAA-1                NaN   \n",
      "QY_2326_1_2_QY_2325_1_2_GAGTCAAAGGCACAGG-1                NaN   \n",
      "QY_2326_1_2_QY_2325_1_2_GGTACTTAGCGCTAAT-1                NaN   \n",
      "QY_2326_1_2_QY_2325_1_2_AAGGTATAGGCCGGAA-1                NaN   \n",
      "QY_2326_1_2_QY_2325_1_2_AATTAGCGTTAAGGTT-1                NaN   \n",
      "\n",
      "                                            log1p_n_genes_by_counts  \\\n",
      "2-M126-M126                                                2.639057   \n",
      "10001-M126-M126                                            1.791759   \n",
      "50175-M126-M126                                            2.197225   \n",
      "140009-M126-M126                                           2.197225   \n",
      "140017-M126-M126                                           2.995732   \n",
      "...                                                             ...   \n",
      "QY_2326_1_2_QY_2325_1_2_TTGTGCGAGTTGTCAA-1                      NaN   \n",
      "QY_2326_1_2_QY_2325_1_2_GAGTCAAAGGCACAGG-1                      NaN   \n",
      "QY_2326_1_2_QY_2325_1_2_GGTACTTAGCGCTAAT-1                      NaN   \n",
      "QY_2326_1_2_QY_2325_1_2_AAGGTATAGGCCGGAA-1                      NaN   \n",
      "QY_2326_1_2_QY_2325_1_2_AATTAGCGTTAAGGTT-1                      NaN   \n",
      "\n",
      "                                            total_counts  log1p_total_counts  \\\n",
      "2-M126-M126                                         16.0            2.833213   \n",
      "10001-M126-M126                                     48.0            3.891820   \n",
      "50175-M126-M126                                     10.0            2.397895   \n",
      "140009-M126-M126                                    12.0            2.564949   \n",
      "140017-M126-M126                                    41.0            3.737670   \n",
      "...                                                  ...                 ...   \n",
      "QY_2326_1_2_QY_2325_1_2_TTGTGCGAGTTGTCAA-1           NaN                 NaN   \n",
      "QY_2326_1_2_QY_2325_1_2_GAGTCAAAGGCACAGG-1           NaN                 NaN   \n",
      "QY_2326_1_2_QY_2325_1_2_GGTACTTAGCGCTAAT-1           NaN                 NaN   \n",
      "QY_2326_1_2_QY_2325_1_2_AAGGTATAGGCCGGAA-1           NaN                 NaN   \n",
      "QY_2326_1_2_QY_2325_1_2_AATTAGCGTTAAGGTT-1           NaN                 NaN   \n",
      "\n",
      "                                            ...      pANN  nCount_ATAC_comb  \\\n",
      "2-M126-M126                                 ...       NaN               NaN   \n",
      "10001-M126-M126                             ...       NaN               NaN   \n",
      "50175-M126-M126                             ...       NaN               NaN   \n",
      "140009-M126-M126                            ...       NaN               NaN   \n",
      "140017-M126-M126                            ...       NaN               NaN   \n",
      "...                                         ...       ...               ...   \n",
      "QY_2326_1_2_QY_2325_1_2_TTGTGCGAGTTGTCAA-1  ...  0.082310            8647.0   \n",
      "QY_2326_1_2_QY_2325_1_2_GAGTCAAAGGCACAGG-1  ...  0.383292            2023.0   \n",
      "QY_2326_1_2_QY_2325_1_2_GGTACTTAGCGCTAAT-1  ...  0.097052            1944.0   \n",
      "QY_2326_1_2_QY_2325_1_2_AAGGTATAGGCCGGAA-1  ...  0.394349            2416.0   \n",
      "QY_2326_1_2_QY_2325_1_2_AATTAGCGTTAAGGTT-1  ...  0.373464            3867.0   \n",
      "\n",
      "                                            nFeature_ATAC_comb  \\\n",
      "2-M126-M126                                                NaN   \n",
      "10001-M126-M126                                            NaN   \n",
      "50175-M126-M126                                            NaN   \n",
      "140009-M126-M126                                           NaN   \n",
      "140017-M126-M126                                           NaN   \n",
      "...                                                        ...   \n",
      "QY_2326_1_2_QY_2325_1_2_TTGTGCGAGTTGTCAA-1              7325.0   \n",
      "QY_2326_1_2_QY_2325_1_2_GAGTCAAAGGCACAGG-1              1865.0   \n",
      "QY_2326_1_2_QY_2325_1_2_GGTACTTAGCGCTAAT-1              1846.0   \n",
      "QY_2326_1_2_QY_2325_1_2_AAGGTATAGGCCGGAA-1              2174.0   \n",
      "QY_2326_1_2_QY_2325_1_2_AATTAGCGTTAAGGTT-1              3426.0   \n",
      "\n",
      "                                           RNA_snn_res.0.5  seurat_clusters  \\\n",
      "2-M126-M126                                            NaN              NaN   \n",
      "10001-M126-M126                                        NaN              NaN   \n",
      "50175-M126-M126                                        NaN              NaN   \n",
      "140009-M126-M126                                       NaN              NaN   \n",
      "140017-M126-M126                                       NaN              NaN   \n",
      "...                                                    ...              ...   \n",
      "QY_2326_1_2_QY_2325_1_2_TTGTGCGAGTTGTCAA-1               8                2   \n",
      "QY_2326_1_2_QY_2325_1_2_GAGTCAAAGGCACAGG-1              17                8   \n",
      "QY_2326_1_2_QY_2325_1_2_GGTACTTAGCGCTAAT-1               8                2   \n",
      "QY_2326_1_2_QY_2325_1_2_AAGGTATAGGCCGGAA-1              17                8   \n",
      "QY_2326_1_2_QY_2325_1_2_AATTAGCGTTAAGGTT-1              17                8   \n",
      "\n",
      "                                           ATAC_comb_snn_res.0.3 RNA.weight  \\\n",
      "2-M126-M126                                                  NaN        NaN   \n",
      "10001-M126-M126                                              NaN        NaN   \n",
      "50175-M126-M126                                              NaN        NaN   \n",
      "140009-M126-M126                                             NaN        NaN   \n",
      "140017-M126-M126                                             NaN        NaN   \n",
      "...                                                          ...        ...   \n",
      "QY_2326_1_2_QY_2325_1_2_TTGTGCGAGTTGTCAA-1                     2   0.024718   \n",
      "QY_2326_1_2_QY_2325_1_2_GAGTCAAAGGCACAGG-1                    10   0.531784   \n",
      "QY_2326_1_2_QY_2325_1_2_GGTACTTAGCGCTAAT-1                     2   0.009261   \n",
      "QY_2326_1_2_QY_2325_1_2_AAGGTATAGGCCGGAA-1                    10   0.757020   \n",
      "QY_2326_1_2_QY_2325_1_2_AATTAGCGTTAAGGTT-1                    10   0.529890   \n",
      "\n",
      "                                           ATAC_comb.weight  wsnn_res.0.25  \\\n",
      "2-M126-M126                                             NaN            NaN   \n",
      "10001-M126-M126                                         NaN            NaN   \n",
      "50175-M126-M126                                         NaN            NaN   \n",
      "140009-M126-M126                                        NaN            NaN   \n",
      "140017-M126-M126                                        NaN            NaN   \n",
      "...                                                     ...            ...   \n",
      "QY_2326_1_2_QY_2325_1_2_TTGTGCGAGTTGTCAA-1         0.975282              2   \n",
      "QY_2326_1_2_QY_2325_1_2_GAGTCAAAGGCACAGG-1         0.468216              8   \n",
      "QY_2326_1_2_QY_2325_1_2_GGTACTTAGCGCTAAT-1         0.990739              2   \n",
      "QY_2326_1_2_QY_2325_1_2_AAGGTATAGGCCGGAA-1         0.242980              8   \n",
      "QY_2326_1_2_QY_2325_1_2_AATTAGCGTTAAGGTT-1         0.470110              8   \n",
      "\n",
      "                                           source  \n",
      "2-M126-M126                                     0  \n",
      "10001-M126-M126                                 0  \n",
      "50175-M126-M126                                 0  \n",
      "140009-M126-M126                                0  \n",
      "140017-M126-M126                                0  \n",
      "...                                           ...  \n",
      "QY_2326_1_2_QY_2325_1_2_TTGTGCGAGTTGTCAA-1      1  \n",
      "QY_2326_1_2_QY_2325_1_2_GAGTCAAAGGCACAGG-1      1  \n",
      "QY_2326_1_2_QY_2325_1_2_GGTACTTAGCGCTAAT-1      1  \n",
      "QY_2326_1_2_QY_2325_1_2_AAGGTATAGGCCGGAA-1      1  \n",
      "QY_2326_1_2_QY_2325_1_2_AATTAGCGTTAAGGTT-1      1  \n",
      "\n",
      "[577462 rows x 48 columns]\n"
     ]
    }
   ],
   "source": [
    "print(adata.obs)"
   ]
  },
  {
   "cell_type": "code",
   "execution_count": 28,
   "metadata": {},
   "outputs": [
    {
     "ename": "ValueError",
     "evalue": "Input contains NaN.",
     "output_type": "error",
     "traceback": [
      "\u001b[0;31m---------------------------------------------------------------------------\u001b[0m",
      "\u001b[0;31mValueError\u001b[0m                                Traceback (most recent call last)",
      "Cell \u001b[0;32mIn[28], line 1\u001b[0m\n\u001b[0;32m----> 1\u001b[0m \u001b[43msc\u001b[49m\u001b[38;5;241;43m.\u001b[39;49m\u001b[43mpp\u001b[49m\u001b[38;5;241;43m.\u001b[39;49m\u001b[43mpca\u001b[49m\u001b[43m(\u001b[49m\u001b[43madata\u001b[49m\u001b[43m)\u001b[49m\n\u001b[1;32m      2\u001b[0m sc\u001b[38;5;241m.\u001b[39mpp\u001b[38;5;241m.\u001b[39mneighbors(adata)\n\u001b[1;32m      3\u001b[0m sc\u001b[38;5;241m.\u001b[39mtl\u001b[38;5;241m.\u001b[39mumap(adata)\n",
      "File \u001b[0;32m~/anaconda3/envs/CellSenescence/lib/python3.12/site-packages/scanpy/preprocessing/_pca.py:276\u001b[0m, in \u001b[0;36mpca\u001b[0;34m(***failed resolving arguments***)\u001b[0m\n\u001b[1;32m    272\u001b[0m \u001b[38;5;28;01mfrom\u001b[39;00m \u001b[38;5;21;01msklearn\u001b[39;00m\u001b[38;5;21;01m.\u001b[39;00m\u001b[38;5;21;01mdecomposition\u001b[39;00m \u001b[38;5;28;01mimport\u001b[39;00m PCA\n\u001b[1;32m    274\u001b[0m svd_solver \u001b[38;5;241m=\u001b[39m _handle_sklearn_args(svd_solver, \u001b[38;5;124m\"\u001b[39m\u001b[38;5;124mPCA (with sparse input)\u001b[39m\u001b[38;5;124m\"\u001b[39m)\n\u001b[0;32m--> 276\u001b[0m output \u001b[38;5;241m=\u001b[39m \u001b[43m_pca_with_sparse\u001b[49m\u001b[43m(\u001b[49m\n\u001b[1;32m    277\u001b[0m \u001b[43m    \u001b[49m\u001b[43mX\u001b[49m\u001b[43m,\u001b[49m\u001b[43m \u001b[49m\u001b[43mn_comps\u001b[49m\u001b[43m,\u001b[49m\u001b[43m \u001b[49m\u001b[43msolver\u001b[49m\u001b[38;5;241;43m=\u001b[39;49m\u001b[43msvd_solver\u001b[49m\u001b[43m,\u001b[49m\u001b[43m \u001b[49m\u001b[43mrandom_state\u001b[49m\u001b[38;5;241;43m=\u001b[39;49m\u001b[43mrandom_state\u001b[49m\n\u001b[1;32m    278\u001b[0m \u001b[43m\u001b[49m\u001b[43m)\u001b[49m\n\u001b[1;32m    279\u001b[0m \u001b[38;5;66;03m# this is just a wrapper for the results\u001b[39;00m\n\u001b[1;32m    280\u001b[0m X_pca \u001b[38;5;241m=\u001b[39m output[\u001b[38;5;124m\"\u001b[39m\u001b[38;5;124mX_pca\u001b[39m\u001b[38;5;124m\"\u001b[39m]\n",
      "File \u001b[0;32m~/anaconda3/envs/CellSenescence/lib/python3.12/site-packages/scanpy/preprocessing/_pca.py:397\u001b[0m, in \u001b[0;36m_pca_with_sparse\u001b[0;34m(X, npcs, solver, mu, random_state)\u001b[0m\n\u001b[1;32m    395\u001b[0m np\u001b[38;5;241m.\u001b[39mrandom\u001b[38;5;241m.\u001b[39mset_state(random_state\u001b[38;5;241m.\u001b[39mget_state())\n\u001b[1;32m    396\u001b[0m random_init \u001b[38;5;241m=\u001b[39m np\u001b[38;5;241m.\u001b[39mrandom\u001b[38;5;241m.\u001b[39mrand(np\u001b[38;5;241m.\u001b[39mmin(X\u001b[38;5;241m.\u001b[39mshape))\n\u001b[0;32m--> 397\u001b[0m X \u001b[38;5;241m=\u001b[39m \u001b[43mcheck_array\u001b[49m\u001b[43m(\u001b[49m\u001b[43mX\u001b[49m\u001b[43m,\u001b[49m\u001b[43m \u001b[49m\u001b[43maccept_sparse\u001b[49m\u001b[38;5;241;43m=\u001b[39;49m\u001b[43m[\u001b[49m\u001b[38;5;124;43m\"\u001b[39;49m\u001b[38;5;124;43mcsr\u001b[39;49m\u001b[38;5;124;43m\"\u001b[39;49m\u001b[43m,\u001b[49m\u001b[43m \u001b[49m\u001b[38;5;124;43m\"\u001b[39;49m\u001b[38;5;124;43mcsc\u001b[39;49m\u001b[38;5;124;43m\"\u001b[39;49m\u001b[43m]\u001b[49m\u001b[43m)\u001b[49m\n\u001b[1;32m    399\u001b[0m \u001b[38;5;28;01mif\u001b[39;00m mu \u001b[38;5;129;01mis\u001b[39;00m \u001b[38;5;28;01mNone\u001b[39;00m:\n\u001b[1;32m    400\u001b[0m     mu \u001b[38;5;241m=\u001b[39m X\u001b[38;5;241m.\u001b[39mmean(\u001b[38;5;241m0\u001b[39m)\u001b[38;5;241m.\u001b[39mA\u001b[38;5;241m.\u001b[39mflatten()[\u001b[38;5;28;01mNone\u001b[39;00m, :]\n",
      "File \u001b[0;32m~/anaconda3/envs/CellSenescence/lib/python3.12/site-packages/sklearn/utils/validation.py:917\u001b[0m, in \u001b[0;36mcheck_array\u001b[0;34m(array, accept_sparse, accept_large_sparse, dtype, order, copy, force_all_finite, ensure_2d, allow_nd, ensure_min_samples, ensure_min_features, estimator, input_name)\u001b[0m\n\u001b[1;32m    915\u001b[0m \u001b[38;5;28;01mif\u001b[39;00m sp\u001b[38;5;241m.\u001b[39missparse(array):\n\u001b[1;32m    916\u001b[0m     _ensure_no_complex_data(array)\n\u001b[0;32m--> 917\u001b[0m     array \u001b[38;5;241m=\u001b[39m \u001b[43m_ensure_sparse_format\u001b[49m\u001b[43m(\u001b[49m\n\u001b[1;32m    918\u001b[0m \u001b[43m        \u001b[49m\u001b[43marray\u001b[49m\u001b[43m,\u001b[49m\n\u001b[1;32m    919\u001b[0m \u001b[43m        \u001b[49m\u001b[43maccept_sparse\u001b[49m\u001b[38;5;241;43m=\u001b[39;49m\u001b[43maccept_sparse\u001b[49m\u001b[43m,\u001b[49m\n\u001b[1;32m    920\u001b[0m \u001b[43m        \u001b[49m\u001b[43mdtype\u001b[49m\u001b[38;5;241;43m=\u001b[39;49m\u001b[43mdtype\u001b[49m\u001b[43m,\u001b[49m\n\u001b[1;32m    921\u001b[0m \u001b[43m        \u001b[49m\u001b[43mcopy\u001b[49m\u001b[38;5;241;43m=\u001b[39;49m\u001b[43mcopy\u001b[49m\u001b[43m,\u001b[49m\n\u001b[1;32m    922\u001b[0m \u001b[43m        \u001b[49m\u001b[43mforce_all_finite\u001b[49m\u001b[38;5;241;43m=\u001b[39;49m\u001b[43mforce_all_finite\u001b[49m\u001b[43m,\u001b[49m\n\u001b[1;32m    923\u001b[0m \u001b[43m        \u001b[49m\u001b[43maccept_large_sparse\u001b[49m\u001b[38;5;241;43m=\u001b[39;49m\u001b[43maccept_large_sparse\u001b[49m\u001b[43m,\u001b[49m\n\u001b[1;32m    924\u001b[0m \u001b[43m        \u001b[49m\u001b[43mestimator_name\u001b[49m\u001b[38;5;241;43m=\u001b[39;49m\u001b[43mestimator_name\u001b[49m\u001b[43m,\u001b[49m\n\u001b[1;32m    925\u001b[0m \u001b[43m        \u001b[49m\u001b[43minput_name\u001b[49m\u001b[38;5;241;43m=\u001b[39;49m\u001b[43minput_name\u001b[49m\u001b[43m,\u001b[49m\n\u001b[1;32m    926\u001b[0m \u001b[43m    \u001b[49m\u001b[43m)\u001b[49m\n\u001b[1;32m    927\u001b[0m \u001b[38;5;28;01melse\u001b[39;00m:\n\u001b[1;32m    928\u001b[0m     \u001b[38;5;66;03m# If np.array(..) gives ComplexWarning, then we convert the warning\u001b[39;00m\n\u001b[1;32m    929\u001b[0m     \u001b[38;5;66;03m# to an error. This is needed because specifying a non complex\u001b[39;00m\n\u001b[1;32m    930\u001b[0m     \u001b[38;5;66;03m# dtype to the function converts complex to real dtype,\u001b[39;00m\n\u001b[1;32m    931\u001b[0m     \u001b[38;5;66;03m# thereby passing the test made in the lines following the scope\u001b[39;00m\n\u001b[1;32m    932\u001b[0m     \u001b[38;5;66;03m# of warnings context manager.\u001b[39;00m\n\u001b[1;32m    933\u001b[0m     \u001b[38;5;28;01mwith\u001b[39;00m warnings\u001b[38;5;241m.\u001b[39mcatch_warnings():\n",
      "File \u001b[0;32m~/anaconda3/envs/CellSenescence/lib/python3.12/site-packages/sklearn/utils/validation.py:593\u001b[0m, in \u001b[0;36m_ensure_sparse_format\u001b[0;34m(sparse_container, accept_sparse, dtype, copy, force_all_finite, accept_large_sparse, estimator_name, input_name)\u001b[0m\n\u001b[1;32m    588\u001b[0m         warnings\u001b[38;5;241m.\u001b[39mwarn(\n\u001b[1;32m    589\u001b[0m             \u001b[38;5;124mf\u001b[39m\u001b[38;5;124m\"\u001b[39m\u001b[38;5;124mCan\u001b[39m\u001b[38;5;124m'\u001b[39m\u001b[38;5;124mt check \u001b[39m\u001b[38;5;132;01m{\u001b[39;00msparse_container\u001b[38;5;241m.\u001b[39mformat\u001b[38;5;132;01m}\u001b[39;00m\u001b[38;5;124m sparse matrix for nan or inf.\u001b[39m\u001b[38;5;124m\"\u001b[39m,\n\u001b[1;32m    590\u001b[0m             stacklevel\u001b[38;5;241m=\u001b[39m\u001b[38;5;241m2\u001b[39m,\n\u001b[1;32m    591\u001b[0m         )\n\u001b[1;32m    592\u001b[0m     \u001b[38;5;28;01melse\u001b[39;00m:\n\u001b[0;32m--> 593\u001b[0m         \u001b[43m_assert_all_finite\u001b[49m\u001b[43m(\u001b[49m\n\u001b[1;32m    594\u001b[0m \u001b[43m            \u001b[49m\u001b[43msparse_container\u001b[49m\u001b[38;5;241;43m.\u001b[39;49m\u001b[43mdata\u001b[49m\u001b[43m,\u001b[49m\n\u001b[1;32m    595\u001b[0m \u001b[43m            \u001b[49m\u001b[43mallow_nan\u001b[49m\u001b[38;5;241;43m=\u001b[39;49m\u001b[43mforce_all_finite\u001b[49m\u001b[43m \u001b[49m\u001b[38;5;241;43m==\u001b[39;49m\u001b[43m \u001b[49m\u001b[38;5;124;43m\"\u001b[39;49m\u001b[38;5;124;43mallow-nan\u001b[39;49m\u001b[38;5;124;43m\"\u001b[39;49m\u001b[43m,\u001b[49m\n\u001b[1;32m    596\u001b[0m \u001b[43m            \u001b[49m\u001b[43mestimator_name\u001b[49m\u001b[38;5;241;43m=\u001b[39;49m\u001b[43mestimator_name\u001b[49m\u001b[43m,\u001b[49m\n\u001b[1;32m    597\u001b[0m \u001b[43m            \u001b[49m\u001b[43minput_name\u001b[49m\u001b[38;5;241;43m=\u001b[39;49m\u001b[43minput_name\u001b[49m\u001b[43m,\u001b[49m\n\u001b[1;32m    598\u001b[0m \u001b[43m        \u001b[49m\u001b[43m)\u001b[49m\n\u001b[1;32m    600\u001b[0m \u001b[38;5;66;03m# TODO: Remove when the minimum version of SciPy supported is 1.12\u001b[39;00m\n\u001b[1;32m    601\u001b[0m \u001b[38;5;66;03m# With SciPy sparse arrays, conversion from DIA format to COO, CSR, or BSR\u001b[39;00m\n\u001b[1;32m    602\u001b[0m \u001b[38;5;66;03m# triggers the use of `np.int64` indices even if the data is such that it could\u001b[39;00m\n\u001b[0;32m   (...)\u001b[0m\n\u001b[1;32m    605\u001b[0m \u001b[38;5;66;03m# algorithms support large indices, the following code downcasts to `np.int32`\u001b[39;00m\n\u001b[1;32m    606\u001b[0m \u001b[38;5;66;03m# indices when it's safe to do so.\u001b[39;00m\n\u001b[1;32m    607\u001b[0m \u001b[38;5;28;01mif\u001b[39;00m changed_format:\n\u001b[1;32m    608\u001b[0m     \u001b[38;5;66;03m# accept_sparse is specified to a specific format and a conversion occurred\u001b[39;00m\n",
      "File \u001b[0;32m~/anaconda3/envs/CellSenescence/lib/python3.12/site-packages/sklearn/utils/validation.py:126\u001b[0m, in \u001b[0;36m_assert_all_finite\u001b[0;34m(X, allow_nan, msg_dtype, estimator_name, input_name)\u001b[0m\n\u001b[1;32m    123\u001b[0m \u001b[38;5;28;01mif\u001b[39;00m first_pass_isfinite:\n\u001b[1;32m    124\u001b[0m     \u001b[38;5;28;01mreturn\u001b[39;00m\n\u001b[0;32m--> 126\u001b[0m \u001b[43m_assert_all_finite_element_wise\u001b[49m\u001b[43m(\u001b[49m\n\u001b[1;32m    127\u001b[0m \u001b[43m    \u001b[49m\u001b[43mX\u001b[49m\u001b[43m,\u001b[49m\n\u001b[1;32m    128\u001b[0m \u001b[43m    \u001b[49m\u001b[43mxp\u001b[49m\u001b[38;5;241;43m=\u001b[39;49m\u001b[43mxp\u001b[49m\u001b[43m,\u001b[49m\n\u001b[1;32m    129\u001b[0m \u001b[43m    \u001b[49m\u001b[43mallow_nan\u001b[49m\u001b[38;5;241;43m=\u001b[39;49m\u001b[43mallow_nan\u001b[49m\u001b[43m,\u001b[49m\n\u001b[1;32m    130\u001b[0m \u001b[43m    \u001b[49m\u001b[43mmsg_dtype\u001b[49m\u001b[38;5;241;43m=\u001b[39;49m\u001b[43mmsg_dtype\u001b[49m\u001b[43m,\u001b[49m\n\u001b[1;32m    131\u001b[0m \u001b[43m    \u001b[49m\u001b[43mestimator_name\u001b[49m\u001b[38;5;241;43m=\u001b[39;49m\u001b[43mestimator_name\u001b[49m\u001b[43m,\u001b[49m\n\u001b[1;32m    132\u001b[0m \u001b[43m    \u001b[49m\u001b[43minput_name\u001b[49m\u001b[38;5;241;43m=\u001b[39;49m\u001b[43minput_name\u001b[49m\u001b[43m,\u001b[49m\n\u001b[1;32m    133\u001b[0m \u001b[43m\u001b[49m\u001b[43m)\u001b[49m\n",
      "File \u001b[0;32m~/anaconda3/envs/CellSenescence/lib/python3.12/site-packages/sklearn/utils/validation.py:175\u001b[0m, in \u001b[0;36m_assert_all_finite_element_wise\u001b[0;34m(X, xp, allow_nan, msg_dtype, estimator_name, input_name)\u001b[0m\n\u001b[1;32m    158\u001b[0m \u001b[38;5;28;01mif\u001b[39;00m estimator_name \u001b[38;5;129;01mand\u001b[39;00m input_name \u001b[38;5;241m==\u001b[39m \u001b[38;5;124m\"\u001b[39m\u001b[38;5;124mX\u001b[39m\u001b[38;5;124m\"\u001b[39m \u001b[38;5;129;01mand\u001b[39;00m has_nan_error:\n\u001b[1;32m    159\u001b[0m     \u001b[38;5;66;03m# Improve the error message on how to handle missing values in\u001b[39;00m\n\u001b[1;32m    160\u001b[0m     \u001b[38;5;66;03m# scikit-learn.\u001b[39;00m\n\u001b[1;32m    161\u001b[0m     msg_err \u001b[38;5;241m+\u001b[39m\u001b[38;5;241m=\u001b[39m (\n\u001b[1;32m    162\u001b[0m         \u001b[38;5;124mf\u001b[39m\u001b[38;5;124m\"\u001b[39m\u001b[38;5;130;01m\\n\u001b[39;00m\u001b[38;5;132;01m{\u001b[39;00mestimator_name\u001b[38;5;132;01m}\u001b[39;00m\u001b[38;5;124m does not accept missing values\u001b[39m\u001b[38;5;124m\"\u001b[39m\n\u001b[1;32m    163\u001b[0m         \u001b[38;5;124m\"\u001b[39m\u001b[38;5;124m encoded as NaN natively. For supervised learning, you might want\u001b[39m\u001b[38;5;124m\"\u001b[39m\n\u001b[0;32m   (...)\u001b[0m\n\u001b[1;32m    173\u001b[0m         \u001b[38;5;124m\"\u001b[39m\u001b[38;5;124m#estimators-that-handle-nan-values\u001b[39m\u001b[38;5;124m\"\u001b[39m\n\u001b[1;32m    174\u001b[0m     )\n\u001b[0;32m--> 175\u001b[0m \u001b[38;5;28;01mraise\u001b[39;00m \u001b[38;5;167;01mValueError\u001b[39;00m(msg_err)\n",
      "\u001b[0;31mValueError\u001b[0m: Input contains NaN."
     ]
    }
   ],
   "source": [
    "sc.pp.pca(adata)\n",
    "sc.pp.neighbors(adata)\n",
    "sc.tl.umap(adata)"
   ]
  },
  {
   "cell_type": "code",
   "execution_count": null,
   "metadata": {},
   "outputs": [],
   "source": [
    "sc.pl.umap(adata, color=\"batch\")"
   ]
  },
  {
   "cell_type": "code",
   "execution_count": null,
   "metadata": {},
   "outputs": [],
   "source": [
    "sc.external.pp.harmony_integrate(adata, key=\"batch\", max_iter_harmony=20)"
   ]
  },
  {
   "cell_type": "code",
   "execution_count": null,
   "metadata": {},
   "outputs": [],
   "source": [
    "sc.pp.neighbors(adata, use_rep=\"X_pca_harmony\")\n",
    "sc.tl.umap(adata)"
   ]
  },
  {
   "cell_type": "code",
   "execution_count": null,
   "metadata": {},
   "outputs": [],
   "source": [
    "sc.pl.umap(adata, color=\"batch\")"
   ]
  },
  {
   "cell_type": "code",
   "execution_count": null,
   "metadata": {},
   "outputs": [],
   "source": [
    "sc.pl.umap(adata, color=\"cluster_names\")"
   ]
  },
  {
   "cell_type": "code",
   "execution_count": null,
   "metadata": {},
   "outputs": [],
   "source": [
    "from sklearn.neighbors import KNeighborsClassifier\n",
    "traindata = adata[adata.obs[\"batch\"] == \"1\"] \n",
    "nn = KNeighborsClassifier(n_jobs=16)\n",
    "nn.fit(traindata.obsm[\"X_pca_harmony\"], traindata.obs[\"cluster_names\"])\n",
    "pred = nn.predict(adata[adata.obs[\"batch\"] == \"0\"].obsm[\"X_pca_harmony\"])"
   ]
  },
  {
   "cell_type": "code",
   "execution_count": null,
   "metadata": {},
   "outputs": [],
   "source": [
    "adata.obs.loc[adata.obs[\"batch\"] == \"0\", \"cluster_names\"] = pred"
   ]
  },
  {
   "cell_type": "code",
   "execution_count": null,
   "metadata": {},
   "outputs": [],
   "source": [
    "sc.pl.umap(adata, color=\"cluster_names\")"
   ]
  },
  {
   "cell_type": "code",
   "execution_count": null,
   "metadata": {},
   "outputs": [],
   "source": [
    "# Attach celltype and age labels to each cell\n",
    "# Celltype label\n",
    "mfdata.obs[\"celltype\"] = list(adata[adata.obs[\"batch\"] == \"0\"].obs[\"cluster_names\"])\n",
    "\n",
    "# Age label\n",
    "get_age = lambda x : 'young' if x < -2400 else 'old'\n",
    "mfdata.obs[\"age\"] = [get_age(x) for x in mfdata.obsm['X_spatial'][:, 0]]"
   ]
  },
  {
   "cell_type": "code",
   "execution_count": null,
   "metadata": {},
   "outputs": [],
   "source": [
    "sc.set_figure_params(dpi=1000)\n",
    "sc.pl.embedding(mfdata, basis=\"X_spatial\", color=\"celltype\", frameon=False, title=\"\")#, groups=[\"Kupffer cell\"])\n",
    "sc.pl.embedding(mfdata, basis=\"X_spatial\", color=\"age\", frameon=False, title=\"\")#, groups=[\"Kupffer cell\"])"
   ]
  },
  {
   "cell_type": "code",
   "execution_count": null,
   "metadata": {},
   "outputs": [],
   "source": [
    "mfdata.obsm[\"X_spatial\"].min(axis=0), mfdata.obsm[\"X_spatial\"].max(axis=0)"
   ]
  },
  {
   "cell_type": "code",
   "execution_count": null,
   "metadata": {},
   "outputs": [],
   "source": [
    "import matplotlib.pyplot as plt\n",
    "plt.scatter(mfdata.obsm[\"X_spatial\"][:,0], mfdata.obsm[\"X_spatial\"][:,1])"
   ]
  },
  {
   "cell_type": "code",
   "execution_count": null,
   "metadata": {},
   "outputs": [],
   "source": [
    "sc.pl.embedding(mfdata[(mfdata.obsm[\"X_spatial\"][:,0] > 1500) & (mfdata.obsm[\"X_spatial\"][:,0] < 2500) & (mfdata.obsm[\"X_spatial\"][:,1] > -1500) & (mfdata.obsm[\"X_spatial\"][:,1] < 1500)], basis=\"X_spatial\", color=\"celltype\", frameon=False, title=\"\")#, groups=[\"Kupffer cell\"])"
   ]
  },
  {
   "cell_type": "code",
   "execution_count": null,
   "metadata": {},
   "outputs": [],
   "source": [
    "mfdata.write(\"M126_test.h5ad\")"
   ]
  },
  {
   "cell_type": "code",
   "execution_count": null,
   "metadata": {},
   "outputs": [],
   "source": [
    "for celltype in mfdata.obs[\"celltype\"].unique():\n",
    "    sc.pl.embedding(mfdata[(mfdata.obsm[\"X_spatial\"][:,0] > -1500) & (mfdata.obsm[\"X_spatial\"][:,0] < 1500) & (mfdata.obsm[\"X_spatial\"][:,1] > -1500) & (mfdata.obsm[\"X_spatial\"][:,1] < 1500)], basis=\"X_spatial\", color=\"celltype\", frameon=False, title=celltype, groups=[celltype], legend_loc=\"off\")"
   ]
  },
  {
   "cell_type": "code",
   "execution_count": null,
   "metadata": {},
   "outputs": [],
   "source": [
    "sc.pl.embedding(mfdata[(mfdata.obsm[\"X_spatial\"][:,0] > -1500) & (mfdata.obsm[\"X_spatial\"][:,0] < 1500) & (mfdata.obsm[\"X_spatial\"][:,1] > -1500) & (mfdata.obsm[\"X_spatial\"][:,1] < 1500)], basis=\"X_spatial\", color=\"celltype\", frameon=False, title=\"10_hepatocyte\", groups=[\"10_hepatocyte\", \"4_hepatocyte\", \"1_hepatocyte\"], palette=[\"tab:blue\", \"tab:orange\", \"tab:green\", \"tab:red\"], na_in_legend=False)"
   ]
  },
  {
   "cell_type": "code",
   "execution_count": null,
   "metadata": {},
   "outputs": [],
   "source": [
    "adata1 = sc.read_h5ad(\"not/a/real/file\")\n",
    "adata2 = sc.read_h5ad(\"not/a/real/file\")\n",
    "print(adata1, adata2)\n",
    "print(set(adata1.obs['batch']), set(adata1.obs['celltype']))\n",
    "print(set(adata2.obs['batch']), set(adata2.obs['celltype']))\n",
    "\n",
    "comb = adata1.concatenate(adata2, batch_key='ignore_batch', index_unique=None)\n",
    "print(set(comb.obs['batch']))\n",
    "print(comb.obs['celltype'])\n",
    "print(comb)\n",
    "\n",
    "comb.write_h5ad(\"data_raw/M126to127_test2.h5ad\")"
   ]
  }
 ],
 "metadata": {
  "kernelspec": {
   "display_name": "sc",
   "language": "python",
   "name": "python3"
  },
  "language_info": {
   "codemirror_mode": {
    "name": "ipython",
    "version": 3
   },
   "file_extension": ".py",
   "mimetype": "text/x-python",
   "name": "python",
   "nbconvert_exporter": "python",
   "pygments_lexer": "ipython3",
   "version": "3.1.undefined"
  }
 },
 "nbformat": 4,
 "nbformat_minor": 2
}
